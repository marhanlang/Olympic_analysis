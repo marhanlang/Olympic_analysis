{
 "cells": [
  {
   "cell_type": "code",
   "execution_count": 1,
   "id": "8c349fb1",
   "metadata": {
    "scrolled": false
   },
   "outputs": [
    {
     "data": {
      "text/html": [
       "<div>\n",
       "<style scoped>\n",
       "    .dataframe tbody tr th:only-of-type {\n",
       "        vertical-align: middle;\n",
       "    }\n",
       "\n",
       "    .dataframe tbody tr th {\n",
       "        vertical-align: top;\n",
       "    }\n",
       "\n",
       "    .dataframe thead th {\n",
       "        text-align: right;\n",
       "    }\n",
       "</style>\n",
       "<table border=\"1\" class=\"dataframe\">\n",
       "  <thead>\n",
       "    <tr style=\"text-align: right;\">\n",
       "      <th></th>\n",
       "      <th>Count</th>\n",
       "      <th>Name</th>\n",
       "      <th>Sex</th>\n",
       "      <th>Age</th>\n",
       "      <th>Height</th>\n",
       "      <th>Weight</th>\n",
       "      <th>Team</th>\n",
       "      <th>Games</th>\n",
       "      <th>Season</th>\n",
       "      <th>Event</th>\n",
       "      <th>Medal</th>\n",
       "      <th>BMI</th>\n",
       "    </tr>\n",
       "  </thead>\n",
       "  <tbody>\n",
       "    <tr>\n",
       "      <th>0</th>\n",
       "      <td>1</td>\n",
       "      <td>Juhamatti Tapio Aaltonen</td>\n",
       "      <td>M</td>\n",
       "      <td>28</td>\n",
       "      <td>184</td>\n",
       "      <td>85</td>\n",
       "      <td>Finland</td>\n",
       "      <td>2014 Winter</td>\n",
       "      <td>Winter</td>\n",
       "      <td>Ice Hockey Men's Ice Hockey</td>\n",
       "      <td>Bronze</td>\n",
       "      <td>25</td>\n",
       "    </tr>\n",
       "    <tr>\n",
       "      <th>1</th>\n",
       "      <td>2</td>\n",
       "      <td>Paavo Johannes Aaltonen</td>\n",
       "      <td>M</td>\n",
       "      <td>28</td>\n",
       "      <td>175</td>\n",
       "      <td>64</td>\n",
       "      <td>Finland</td>\n",
       "      <td>1948 Summer</td>\n",
       "      <td>Summer</td>\n",
       "      <td>Gymnastics Men's Individual All-Around</td>\n",
       "      <td>Bronze</td>\n",
       "      <td>21</td>\n",
       "    </tr>\n",
       "    <tr>\n",
       "      <th>2</th>\n",
       "      <td>3</td>\n",
       "      <td>Paavo Johannes Aaltonen</td>\n",
       "      <td>M</td>\n",
       "      <td>28</td>\n",
       "      <td>175</td>\n",
       "      <td>64</td>\n",
       "      <td>Finland</td>\n",
       "      <td>1948 Summer</td>\n",
       "      <td>Summer</td>\n",
       "      <td>Gymnastics Men's Team All-Around</td>\n",
       "      <td>Gold</td>\n",
       "      <td>21</td>\n",
       "    </tr>\n",
       "    <tr>\n",
       "      <th>3</th>\n",
       "      <td>4</td>\n",
       "      <td>Paavo Johannes Aaltonen</td>\n",
       "      <td>M</td>\n",
       "      <td>28</td>\n",
       "      <td>175</td>\n",
       "      <td>64</td>\n",
       "      <td>Finland</td>\n",
       "      <td>1948 Summer</td>\n",
       "      <td>Summer</td>\n",
       "      <td>Gymnastics Men's Horse Vault</td>\n",
       "      <td>Gold</td>\n",
       "      <td>21</td>\n",
       "    </tr>\n",
       "    <tr>\n",
       "      <th>4</th>\n",
       "      <td>5</td>\n",
       "      <td>Paavo Johannes Aaltonen</td>\n",
       "      <td>M</td>\n",
       "      <td>28</td>\n",
       "      <td>175</td>\n",
       "      <td>64</td>\n",
       "      <td>Finland</td>\n",
       "      <td>1948 Summer</td>\n",
       "      <td>Summer</td>\n",
       "      <td>Gymnastics Men's Pommelled Horse</td>\n",
       "      <td>Gold</td>\n",
       "      <td>21</td>\n",
       "    </tr>\n",
       "  </tbody>\n",
       "</table>\n",
       "</div>"
      ],
      "text/plain": [
       "   Count                      Name Sex  Age  Height  Weight     Team  \\\n",
       "0      1  Juhamatti Tapio Aaltonen   M   28     184      85  Finland   \n",
       "1      2   Paavo Johannes Aaltonen   M   28     175      64  Finland   \n",
       "2      3   Paavo Johannes Aaltonen   M   28     175      64  Finland   \n",
       "3      4   Paavo Johannes Aaltonen   M   28     175      64  Finland   \n",
       "4      5   Paavo Johannes Aaltonen   M   28     175      64  Finland   \n",
       "\n",
       "         Games  Season                                   Event   Medal  BMI  \n",
       "0  2014 Winter  Winter             Ice Hockey Men's Ice Hockey  Bronze   25  \n",
       "1  1948 Summer  Summer  Gymnastics Men's Individual All-Around  Bronze   21  \n",
       "2  1948 Summer  Summer        Gymnastics Men's Team All-Around    Gold   21  \n",
       "3  1948 Summer  Summer            Gymnastics Men's Horse Vault    Gold   21  \n",
       "4  1948 Summer  Summer        Gymnastics Men's Pommelled Horse    Gold   21  "
      ]
     },
     "execution_count": 1,
     "metadata": {},
     "output_type": "execute_result"
    }
   ],
   "source": [
    "# Import dependencies\n",
    "import pandas as pd\n",
    "import sklearn as skl\n",
    "from sklearn.model_selection import train_test_split\n",
    "from sklearn.preprocessing import StandardScaler,OneHotEncoder\n",
    "import tensorflow as tf\n",
    "\n",
    "# Read in data\n",
    "olympic_df = pd.read_csv(\"./cleandatabmi.csv\")\n",
    "olympic_df.head()"
   ]
  },
  {
   "cell_type": "code",
   "execution_count": 2,
   "id": "42c44ed3",
   "metadata": {},
   "outputs": [
    {
     "data": {
      "text/html": [
       "<div>\n",
       "<style scoped>\n",
       "    .dataframe tbody tr th:only-of-type {\n",
       "        vertical-align: middle;\n",
       "    }\n",
       "\n",
       "    .dataframe tbody tr th {\n",
       "        vertical-align: top;\n",
       "    }\n",
       "\n",
       "    .dataframe thead th {\n",
       "        text-align: right;\n",
       "    }\n",
       "</style>\n",
       "<table border=\"1\" class=\"dataframe\">\n",
       "  <thead>\n",
       "    <tr style=\"text-align: right;\">\n",
       "      <th></th>\n",
       "      <th>Medal</th>\n",
       "    </tr>\n",
       "  </thead>\n",
       "  <tbody>\n",
       "    <tr>\n",
       "      <th>0</th>\n",
       "      <td>Bronze</td>\n",
       "    </tr>\n",
       "    <tr>\n",
       "      <th>1</th>\n",
       "      <td>Bronze</td>\n",
       "    </tr>\n",
       "    <tr>\n",
       "      <th>2</th>\n",
       "      <td>Gold</td>\n",
       "    </tr>\n",
       "    <tr>\n",
       "      <th>3</th>\n",
       "      <td>Gold</td>\n",
       "    </tr>\n",
       "    <tr>\n",
       "      <th>4</th>\n",
       "      <td>Gold</td>\n",
       "    </tr>\n",
       "  </tbody>\n",
       "</table>\n",
       "</div>"
      ],
      "text/plain": [
       "    Medal\n",
       "0  Bronze\n",
       "1  Bronze\n",
       "2    Gold\n",
       "3    Gold\n",
       "4    Gold"
      ]
     },
     "execution_count": 2,
     "metadata": {},
     "output_type": "execute_result"
    }
   ],
   "source": [
    "#Create new DataFrame for medals\n",
    "medal_won= olympic_df[['Medal']]\n",
    "\n",
    "medal_won.head()"
   ]
  },
  {
   "cell_type": "code",
   "execution_count": 3,
   "id": "8392c402",
   "metadata": {},
   "outputs": [],
   "source": [
    "#Assign Medal types a number\n",
    "from sklearn.preprocessing import LabelEncoder\n",
    "le = LabelEncoder()\n",
    "medal_wonz = medal_won.copy()\n",
    "medal_wonz['Medal'] = le.fit_transform(medal_wonz['Medal'])\n",
    "\n"
   ]
  },
  {
   "cell_type": "code",
   "execution_count": 5,
   "id": "8b580287",
   "metadata": {},
   "outputs": [
    {
     "data": {
      "text/html": [
       "<div>\n",
       "<style scoped>\n",
       "    .dataframe tbody tr th:only-of-type {\n",
       "        vertical-align: middle;\n",
       "    }\n",
       "\n",
       "    .dataframe tbody tr th {\n",
       "        vertical-align: top;\n",
       "    }\n",
       "\n",
       "    .dataframe thead th {\n",
       "        text-align: right;\n",
       "    }\n",
       "</style>\n",
       "<table border=\"1\" class=\"dataframe\">\n",
       "  <thead>\n",
       "    <tr style=\"text-align: right;\">\n",
       "      <th></th>\n",
       "      <th>Age</th>\n",
       "      <th>Height</th>\n",
       "      <th>Weight</th>\n",
       "      <th>BMI</th>\n",
       "    </tr>\n",
       "  </thead>\n",
       "  <tbody>\n",
       "    <tr>\n",
       "      <th>0</th>\n",
       "      <td>28</td>\n",
       "      <td>184</td>\n",
       "      <td>85</td>\n",
       "      <td>25</td>\n",
       "    </tr>\n",
       "    <tr>\n",
       "      <th>1</th>\n",
       "      <td>28</td>\n",
       "      <td>175</td>\n",
       "      <td>64</td>\n",
       "      <td>21</td>\n",
       "    </tr>\n",
       "    <tr>\n",
       "      <th>2</th>\n",
       "      <td>28</td>\n",
       "      <td>175</td>\n",
       "      <td>64</td>\n",
       "      <td>21</td>\n",
       "    </tr>\n",
       "    <tr>\n",
       "      <th>3</th>\n",
       "      <td>28</td>\n",
       "      <td>175</td>\n",
       "      <td>64</td>\n",
       "      <td>21</td>\n",
       "    </tr>\n",
       "    <tr>\n",
       "      <th>4</th>\n",
       "      <td>28</td>\n",
       "      <td>175</td>\n",
       "      <td>64</td>\n",
       "      <td>21</td>\n",
       "    </tr>\n",
       "  </tbody>\n",
       "</table>\n",
       "</div>"
      ],
      "text/plain": [
       "   Age  Height  Weight  BMI\n",
       "0   28     184      85   25\n",
       "1   28     175      64   21\n",
       "2   28     175      64   21\n",
       "3   28     175      64   21\n",
       "4   28     175      64   21"
      ]
     },
     "execution_count": 5,
     "metadata": {},
     "output_type": "execute_result"
    }
   ],
   "source": [
    "#Drop non-feature columns\n",
    "olympic_df.drop(['Count', 'Name', \"Sex\", \"Team\", \"Games\", \"Season\", \"Event\",\"Medal\"], inplace=True, axis=1)\n",
    "olympic_df.head()"
   ]
  },
  {
   "cell_type": "code",
   "execution_count": 6,
   "id": "ce2c71f8",
   "metadata": {
    "scrolled": true
   },
   "outputs": [
    {
     "data": {
      "text/plain": [
       "Age        50\n",
       "Height     86\n",
       "Weight    129\n",
       "BMI        37\n",
       "dtype: int64"
      ]
     },
     "execution_count": 6,
     "metadata": {},
     "output_type": "execute_result"
    }
   ],
   "source": [
    "#check unique value count for encoding\n",
    "olympic_df.nunique(axis=0)"
   ]
  },
  {
   "cell_type": "code",
   "execution_count": 7,
   "id": "36467ef2",
   "metadata": {},
   "outputs": [
    {
     "data": {
      "text/plain": [
       "[]"
      ]
     },
     "execution_count": 7,
     "metadata": {},
     "output_type": "execute_result"
    }
   ],
   "source": [
    "#create categorical variable list for encoding\n",
    "olympic_cat = olympic_df.dtypes[olympic_df.dtypes == \"object\"].index.tolist()\n",
    "olympic_cat"
   ]
  },
  {
   "cell_type": "code",
   "execution_count": 8,
   "id": "2fbf10bd",
   "metadata": {},
   "outputs": [],
   "source": [
    "# Create a OneHotEncoder instance\n",
    "enc = OneHotEncoder(sparse=False)\n",
    "\n",
    "# Fit and transform the OneHotEncoder using the categorical variable list\n",
    "encode_df = pd.DataFrame(enc.fit_transform(olympic_df[olympic_cat]))\n",
    "\n",
    "# Add the encoded variable names to the dataframe\n",
    "encode_df.columns = enc.get_feature_names(olympic_cat)\n"
   ]
  },
  {
   "cell_type": "code",
   "execution_count": 9,
   "id": "4981e8e8",
   "metadata": {},
   "outputs": [
    {
     "data": {
      "text/html": [
       "<div>\n",
       "<style scoped>\n",
       "    .dataframe tbody tr th:only-of-type {\n",
       "        vertical-align: middle;\n",
       "    }\n",
       "\n",
       "    .dataframe tbody tr th {\n",
       "        vertical-align: top;\n",
       "    }\n",
       "\n",
       "    .dataframe thead th {\n",
       "        text-align: right;\n",
       "    }\n",
       "</style>\n",
       "<table border=\"1\" class=\"dataframe\">\n",
       "  <thead>\n",
       "    <tr style=\"text-align: right;\">\n",
       "      <th></th>\n",
       "      <th>Age</th>\n",
       "      <th>Height</th>\n",
       "      <th>Weight</th>\n",
       "      <th>BMI</th>\n",
       "      <th>Medal</th>\n",
       "    </tr>\n",
       "  </thead>\n",
       "  <tbody>\n",
       "    <tr>\n",
       "      <th>0</th>\n",
       "      <td>28</td>\n",
       "      <td>184</td>\n",
       "      <td>85</td>\n",
       "      <td>25</td>\n",
       "      <td>0</td>\n",
       "    </tr>\n",
       "    <tr>\n",
       "      <th>1</th>\n",
       "      <td>28</td>\n",
       "      <td>175</td>\n",
       "      <td>64</td>\n",
       "      <td>21</td>\n",
       "      <td>0</td>\n",
       "    </tr>\n",
       "    <tr>\n",
       "      <th>2</th>\n",
       "      <td>28</td>\n",
       "      <td>175</td>\n",
       "      <td>64</td>\n",
       "      <td>21</td>\n",
       "      <td>1</td>\n",
       "    </tr>\n",
       "    <tr>\n",
       "      <th>3</th>\n",
       "      <td>28</td>\n",
       "      <td>175</td>\n",
       "      <td>64</td>\n",
       "      <td>21</td>\n",
       "      <td>1</td>\n",
       "    </tr>\n",
       "    <tr>\n",
       "      <th>4</th>\n",
       "      <td>28</td>\n",
       "      <td>175</td>\n",
       "      <td>64</td>\n",
       "      <td>21</td>\n",
       "      <td>1</td>\n",
       "    </tr>\n",
       "  </tbody>\n",
       "</table>\n",
       "</div>"
      ],
      "text/plain": [
       "   Age  Height  Weight  BMI  Medal\n",
       "0   28     184      85   25      0\n",
       "1   28     175      64   21      0\n",
       "2   28     175      64   21      1\n",
       "3   28     175      64   21      1\n",
       "4   28     175      64   21      1"
      ]
     },
     "execution_count": 9,
     "metadata": {},
     "output_type": "execute_result"
    }
   ],
   "source": [
    "#Merge encoded values and numbered medals and drop original columns\n",
    "olympic_df = olympic_df.merge(encode_df,left_index=True, right_index=True)\n",
    "olympic_df = olympic_df.drop(olympic_cat,1)\n",
    "\n",
    "olympic_df = olympic_df.merge(medal_wonz,left_index=True, right_index=True)\n",
    "olympic_df.head()"
   ]
  },
  {
   "cell_type": "code",
   "execution_count": 10,
   "id": "3ba5c595",
   "metadata": {},
   "outputs": [],
   "source": [
    "# Split preprocessed data into features and target arrays\n",
    "y = olympic_df[\"Medal\"].values\n",
    "X = olympic_df.drop([\"Medal\"],1).values\n",
    "Xy=olympic_df.drop([\"Medal\"],1)\n",
    "# Split the preprocessed data into training and testing dataset\n",
    "X_train, X_test, y_train, y_test = train_test_split(X, y, random_state=3)\n"
   ]
  },
  {
   "cell_type": "code",
   "execution_count": 11,
   "id": "89af960f",
   "metadata": {},
   "outputs": [],
   "source": [
    "# Create StandardScaler instance\n",
    "scaler = StandardScaler()\n",
    "\n",
    "# Fit StandardScaler\n",
    "X_scaler = scaler.fit(X_train)\n",
    "\n",
    "# Scale data\n",
    "X_train_scaled = X_scaler.transform(X_train)\n",
    "X_test_scaled = X_scaler.transform(X_test)"
   ]
  },
  {
   "cell_type": "code",
   "execution_count": 15,
   "id": "f6f075d6",
   "metadata": {},
   "outputs": [
    {
     "name": "stdout",
     "output_type": "stream",
     "text": [
      "Model: \"sequential_3\"\n",
      "_________________________________________________________________\n",
      "Layer (type)                 Output Shape              Param #   \n",
      "=================================================================\n",
      "dense_12 (Dense)             (None, 60)                300       \n",
      "_________________________________________________________________\n",
      "dense_13 (Dense)             (None, 4)                 244       \n",
      "_________________________________________________________________\n",
      "dense_14 (Dense)             (None, 4)                 20        \n",
      "_________________________________________________________________\n",
      "dense_15 (Dense)             (None, 1)                 5         \n",
      "=================================================================\n",
      "Total params: 569\n",
      "Trainable params: 569\n",
      "Non-trainable params: 0\n",
      "_________________________________________________________________\n"
     ]
    }
   ],
   "source": [
    "# Define model\n",
    "number_input_features = len(X_train[0])\n",
    "hidden_nodes_layer1 =  60\n",
    "hidden_nodes_layer2 = 4\n",
    "\n",
    "nn = tf.keras.models.Sequential()\n",
    "\n",
    "# First hidden layer\n",
    "nn.add(tf.keras.layers.Dense(units=hidden_nodes_layer1, input_dim=number_input_features, activation=\"relu\"))\n",
    "\n",
    "# Second hidden layer\n",
    "nn.add(tf.keras.layers.Dense(units=hidden_nodes_layer2, activation=\"tanh\"))\n",
    "\n",
    "nn.add(tf.keras.layers.Dense(units=4, activation=\"tanh\"))\n",
    "\n",
    "# Output layer\n",
    "nn.add(tf.keras.layers.Dense(units=1, activation=\"sigmoid\"))\n",
    "\n",
    "# Check the structure of the model\n",
    "nn.summary()"
   ]
  },
  {
   "cell_type": "code",
   "execution_count": 16,
   "id": "c62eaa54",
   "metadata": {},
   "outputs": [],
   "source": [
    "# Compile model\n",
    "nn.compile(loss=\"binary_crossentropy\", optimizer=\"adam\", metrics=[\"accuracy\"])"
   ]
  },
  {
   "cell_type": "code",
   "execution_count": 17,
   "id": "498b246a",
   "metadata": {},
   "outputs": [
    {
     "name": "stdout",
     "output_type": "stream",
     "text": [
      "Epoch 1/100\n",
      "708/708 [==============================] - 2s 2ms/step - loss: 0.1752 - accuracy: 0.3366\n",
      "Epoch 2/100\n",
      "708/708 [==============================] - 1s 2ms/step - loss: 0.0703 - accuracy: 0.3369\n",
      "Epoch 3/100\n",
      "708/708 [==============================] - 1s 2ms/step - loss: 0.0636 - accuracy: 0.3369\n",
      "Epoch 4/100\n",
      "708/708 [==============================] - 1s 1ms/step - loss: 0.0618 - accuracy: 0.3369\n",
      "Epoch 5/100\n",
      "708/708 [==============================] - 1s 1ms/step - loss: 0.0612 - accuracy: 0.3369\n",
      "Epoch 6/100\n",
      "708/708 [==============================] - 1s 1ms/step - loss: 0.0610 - accuracy: 0.3369\n",
      "Epoch 7/100\n",
      "708/708 [==============================] - 1s 1ms/step - loss: 0.0599 - accuracy: 0.3369\n",
      "Epoch 8/100\n",
      "708/708 [==============================] - 1s 1ms/step - loss: 0.0585 - accuracy: 0.3369\n",
      "Epoch 9/100\n",
      "708/708 [==============================] - 1s 1ms/step - loss: 0.0578 - accuracy: 0.3369\n",
      "Epoch 10/100\n",
      "708/708 [==============================] - 1s 1ms/step - loss: 0.0565 - accuracy: 0.3369\n",
      "Epoch 11/100\n",
      "708/708 [==============================] - 1s 1ms/step - loss: 0.0565 - accuracy: 0.3369\n",
      "Epoch 12/100\n",
      "708/708 [==============================] - 1s 1ms/step - loss: 0.0561 - accuracy: 0.3369\n",
      "Epoch 13/100\n",
      "708/708 [==============================] - 1s 1ms/step - loss: 0.0553 - accuracy: 0.3369\n",
      "Epoch 14/100\n",
      "708/708 [==============================] - 1s 1ms/step - loss: 0.0551 - accuracy: 0.3369\n",
      "Epoch 15/100\n",
      "708/708 [==============================] - 1s 2ms/step - loss: 0.0549 - accuracy: 0.3369\n",
      "Epoch 16/100\n",
      "708/708 [==============================] - 1s 2ms/step - loss: 0.0547 - accuracy: 0.3369\n",
      "Epoch 17/100\n",
      "708/708 [==============================] - 1s 1ms/step - loss: 0.0545 - accuracy: 0.3369\n",
      "Epoch 18/100\n",
      "708/708 [==============================] - 1s 1ms/step - loss: 0.0543 - accuracy: 0.3369\n",
      "Epoch 19/100\n",
      "708/708 [==============================] - 1s 1ms/step - loss: 0.0544 - accuracy: 0.3369\n",
      "Epoch 20/100\n",
      "708/708 [==============================] - 1s 1ms/step - loss: 0.0540 - accuracy: 0.3369\n",
      "Epoch 21/100\n",
      "708/708 [==============================] - 1s 1ms/step - loss: 0.0536 - accuracy: 0.3369: 0s - loss: 0.0768 - accu\n",
      "Epoch 22/100\n",
      "708/708 [==============================] - 1s 1ms/step - loss: 0.0535 - accuracy: 0.3369\n",
      "Epoch 23/100\n",
      "708/708 [==============================] - 1s 1ms/step - loss: 0.0535 - accuracy: 0.3369\n",
      "Epoch 24/100\n",
      "708/708 [==============================] - 1s 1ms/step - loss: 0.0531 - accuracy: 0.3369\n",
      "Epoch 25/100\n",
      "708/708 [==============================] - 1s 1ms/step - loss: 0.0531 - accuracy: 0.3369\n",
      "Epoch 26/100\n",
      "708/708 [==============================] - 1s 2ms/step - loss: 0.0528 - accuracy: 0.3369\n",
      "Epoch 27/100\n",
      "708/708 [==============================] - 1s 2ms/step - loss: 0.0526 - accuracy: 0.3369: 1s\n",
      "Epoch 28/100\n",
      "708/708 [==============================] - 1s 1ms/step - loss: 0.0524 - accuracy: 0.3369\n",
      "Epoch 29/100\n",
      "708/708 [==============================] - 1s 1ms/step - loss: 0.0522 - accuracy: 0.3368\n",
      "Epoch 30/100\n",
      "708/708 [==============================] - 1s 2ms/step - loss: 0.0525 - accuracy: 0.3369\n",
      "Epoch 31/100\n",
      "708/708 [==============================] - 1s 2ms/step - loss: 0.0523 - accuracy: 0.3369\n",
      "Epoch 32/100\n",
      "708/708 [==============================] - 1s 1ms/step - loss: 0.0519 - accuracy: 0.3369\n",
      "Epoch 33/100\n",
      "708/708 [==============================] - 1s 1ms/step - loss: 0.0520 - accuracy: 0.3368\n",
      "Epoch 34/100\n",
      "708/708 [==============================] - 1s 1ms/step - loss: 0.0518 - accuracy: 0.3369\n",
      "Epoch 35/100\n",
      "708/708 [==============================] - 1s 1ms/step - loss: 0.0513 - accuracy: 0.3370\n",
      "Epoch 36/100\n",
      "708/708 [==============================] - 1s 1ms/step - loss: 0.0514 - accuracy: 0.3369\n",
      "Epoch 37/100\n",
      "708/708 [==============================] - 1s 1ms/step - loss: 0.0514 - accuracy: 0.3369\n",
      "Epoch 38/100\n",
      "708/708 [==============================] - 1s 1ms/step - loss: 0.0508 - accuracy: 0.3368\n",
      "Epoch 39/100\n",
      "708/708 [==============================] - 1s 1ms/step - loss: 0.0511 - accuracy: 0.3369\n",
      "Epoch 40/100\n",
      "708/708 [==============================] - 1s 1ms/step - loss: 0.0513 - accuracy: 0.3369\n",
      "Epoch 41/100\n",
      "708/708 [==============================] - 1s 1ms/step - loss: 0.0509 - accuracy: 0.3369\n",
      "Epoch 42/100\n",
      "708/708 [==============================] - 1s 1ms/step - loss: 0.0503 - accuracy: 0.3370\n",
      "Epoch 43/100\n",
      "708/708 [==============================] - 1s 1ms/step - loss: 0.0505 - accuracy: 0.3368\n",
      "Epoch 44/100\n",
      "708/708 [==============================] - 1s 1ms/step - loss: 0.0510 - accuracy: 0.3368\n",
      "Epoch 45/100\n",
      "708/708 [==============================] - 1s 1ms/step - loss: 0.0507 - accuracy: 0.3369\n",
      "Epoch 46/100\n",
      "708/708 [==============================] - 1s 1ms/step - loss: 0.0501 - accuracy: 0.3370\n",
      "Epoch 47/100\n",
      "708/708 [==============================] - 1s 1ms/step - loss: 0.0495 - accuracy: 0.3370: 0s - loss: 0.0536 - accuracy: \n",
      "Epoch 48/100\n",
      "708/708 [==============================] - 1s 1ms/step - loss: 0.0502 - accuracy: 0.3369\n",
      "Epoch 49/100\n",
      "708/708 [==============================] - 1s 1ms/step - loss: 0.0503 - accuracy: 0.3370\n",
      "Epoch 50/100\n",
      "708/708 [==============================] - 1s 1ms/step - loss: 0.0493 - accuracy: 0.3369\n",
      "Epoch 51/100\n",
      "708/708 [==============================] - 1s 1ms/step - loss: 0.0501 - accuracy: 0.3370\n",
      "Epoch 52/100\n",
      "708/708 [==============================] - 1s 1ms/step - loss: 0.0492 - accuracy: 0.3369\n",
      "Epoch 53/100\n",
      "708/708 [==============================] - 1s 2ms/step - loss: 0.0494 - accuracy: 0.3370\n",
      "Epoch 54/100\n",
      "708/708 [==============================] - 1s 2ms/step - loss: 0.0482 - accuracy: 0.3369\n",
      "Epoch 55/100\n",
      "708/708 [==============================] - 1s 2ms/step - loss: 0.0476 - accuracy: 0.3369\n",
      "Epoch 56/100\n",
      "708/708 [==============================] - 1s 2ms/step - loss: 0.0486 - accuracy: 0.3369\n",
      "Epoch 57/100\n",
      "708/708 [==============================] - 1s 2ms/step - loss: 0.0475 - accuracy: 0.3368\n",
      "Epoch 58/100\n",
      "708/708 [==============================] - 1s 2ms/step - loss: 0.0474 - accuracy: 0.3369TA: 0\n",
      "Epoch 59/100\n",
      "708/708 [==============================] - 1s 2ms/step - loss: 0.0470 - accuracy: 0.3370\n",
      "Epoch 60/100\n",
      "708/708 [==============================] - 1s 2ms/step - loss: 0.0460 - accuracy: 0.3370\n",
      "Epoch 61/100\n",
      "708/708 [==============================] - 1s 2ms/step - loss: 0.0456 - accuracy: 0.3370\n",
      "Epoch 62/100\n",
      "708/708 [==============================] - 1s 2ms/step - loss: 0.0463 - accuracy: 0.3369\n",
      "Epoch 63/100\n",
      "708/708 [==============================] - 1s 2ms/step - loss: 0.0457 - accuracy: 0.3369\n",
      "Epoch 64/100\n",
      "708/708 [==============================] - 1s 2ms/step - loss: 0.0451 - accuracy: 0.3370\n",
      "Epoch 65/100\n",
      "708/708 [==============================] - 1s 2ms/step - loss: 0.0448 - accuracy: 0.3369\n",
      "Epoch 66/100\n",
      "708/708 [==============================] - 1s 1ms/step - loss: 0.0442 - accuracy: 0.3369\n",
      "Epoch 67/100\n",
      "708/708 [==============================] - 1s 1ms/step - loss: 0.0450 - accuracy: 0.3369TA: 0s - loss: -0.\n",
      "Epoch 68/100\n",
      "708/708 [==============================] - 2s 2ms/step - loss: 0.0442 - accuracy: 0.3369\n",
      "Epoch 69/100\n",
      "708/708 [==============================] - 2s 2ms/step - loss: 0.0434 - accuracy: 0.3370\n",
      "Epoch 70/100\n",
      "708/708 [==============================] - 1s 1ms/step - loss: 0.0443 - accuracy: 0.3368\n",
      "Epoch 71/100\n",
      "708/708 [==============================] - 1s 1ms/step - loss: 0.0434 - accuracy: 0.3370\n",
      "Epoch 72/100\n",
      "708/708 [==============================] - 1s 1ms/step - loss: 0.0431 - accuracy: 0.3369\n",
      "Epoch 73/100\n",
      "708/708 [==============================] - 1s 1ms/step - loss: 0.0426 - accuracy: 0.3369\n",
      "Epoch 74/100\n",
      "708/708 [==============================] - 1s 1ms/step - loss: 0.0421 - accuracy: 0.3369\n",
      "Epoch 75/100\n",
      "708/708 [==============================] - 1s 1ms/step - loss: 0.0421 - accuracy: 0.3369\n",
      "Epoch 76/100\n",
      "708/708 [==============================] - 1s 1ms/step - loss: 0.0407 - accuracy: 0.3369\n",
      "Epoch 77/100\n",
      "708/708 [==============================] - 1s 1ms/step - loss: 0.0435 - accuracy: 0.3368\n",
      "Epoch 78/100\n",
      "708/708 [==============================] - 1s 1ms/step - loss: 0.0414 - accuracy: 0.3369\n",
      "Epoch 79/100\n",
      "708/708 [==============================] - 1s 1ms/step - loss: 0.0407 - accuracy: 0.3369\n",
      "Epoch 80/100\n"
     ]
    },
    {
     "name": "stdout",
     "output_type": "stream",
     "text": [
      "708/708 [==============================] - 1s 1ms/step - loss: 0.0403 - accuracy: 0.3369\n",
      "Epoch 81/100\n",
      "708/708 [==============================] - 1s 1ms/step - loss: 0.0404 - accuracy: 0.3369\n",
      "Epoch 82/100\n",
      "708/708 [==============================] - 1s 1ms/step - loss: 0.0408 - accuracy: 0.3369\n",
      "Epoch 83/100\n",
      "708/708 [==============================] - 1s 1ms/step - loss: 0.0404 - accuracy: 0.3369\n",
      "Epoch 84/100\n",
      "708/708 [==============================] - 1s 1ms/step - loss: 0.0411 - accuracy: 0.3369\n",
      "Epoch 85/100\n",
      "708/708 [==============================] - 1s 1ms/step - loss: 0.0400 - accuracy: 0.3369\n",
      "Epoch 86/100\n",
      "708/708 [==============================] - 1s 1ms/step - loss: 0.0395 - accuracy: 0.3369: 0s - loss: 0\n",
      "Epoch 87/100\n",
      "708/708 [==============================] - 1s 1ms/step - loss: 0.0396 - accuracy: 0.3369\n",
      "Epoch 88/100\n",
      "708/708 [==============================] - 1s 1ms/step - loss: 0.0396 - accuracy: 0.3369\n",
      "Epoch 89/100\n",
      "708/708 [==============================] - 1s 1ms/step - loss: 0.0396 - accuracy: 0.3369\n",
      "Epoch 90/100\n",
      "708/708 [==============================] - 1s 1ms/step - loss: 0.0381 - accuracy: 0.3369\n",
      "Epoch 91/100\n",
      "708/708 [==============================] - 1s 1ms/step - loss: 0.0387 - accuracy: 0.3369\n",
      "Epoch 92/100\n",
      "708/708 [==============================] - 1s 1ms/step - loss: 0.0387 - accuracy: 0.3369\n",
      "Epoch 93/100\n",
      "708/708 [==============================] - 1s 1ms/step - loss: 0.0383 - accuracy: 0.3369\n",
      "Epoch 94/100\n",
      "708/708 [==============================] - 1s 1ms/step - loss: 0.0383 - accuracy: 0.3369\n",
      "Epoch 95/100\n",
      "708/708 [==============================] - 1s 1ms/step - loss: 0.0366 - accuracy: 0.3369\n",
      "Epoch 96/100\n",
      "708/708 [==============================] - 1s 1ms/step - loss: 0.0371 - accuracy: 0.3369\n",
      "Epoch 97/100\n",
      "708/708 [==============================] - 1s 1ms/step - loss: 0.0372 - accuracy: 0.3369\n",
      "Epoch 98/100\n",
      "708/708 [==============================] - 1s 1ms/step - loss: 0.0372 - accuracy: 0.3369\n",
      "Epoch 99/100\n",
      "708/708 [==============================] - 1s 1ms/step - loss: 0.0357 - accuracy: 0.3369\n",
      "Epoch 100/100\n",
      "708/708 [==============================] - 1s 1ms/step - loss: 0.0360 - accuracy: 0.3369\n"
     ]
    }
   ],
   "source": [
    "# Train model\n",
    "fit_model = nn.fit(X_train_scaled,y_train,epochs=100)"
   ]
  },
  {
   "cell_type": "code",
   "execution_count": 18,
   "id": "796eead2",
   "metadata": {},
   "outputs": [
    {
     "name": "stdout",
     "output_type": "stream",
     "text": [
      "236/236 - 0s - loss: 0.0502 - accuracy: 0.3369\n",
      "Loss: 0.050221387296915054, Accuracy: 0.33686721324920654\n"
     ]
    }
   ],
   "source": [
    "# Evaluate model using test data\n",
    "model_loss, model_accuracy = nn.evaluate(X_test_scaled,y_test,verbose=2)\n",
    "print(f\"Loss: {model_loss}, Accuracy: {model_accuracy}\")"
   ]
  },
  {
   "cell_type": "markdown",
   "id": "250ed803",
   "metadata": {},
   "source": [
    "# Random Forrest\n"
   ]
  },
  {
   "cell_type": "code",
   "execution_count": 19,
   "id": "3865fae3",
   "metadata": {},
   "outputs": [],
   "source": [
    "# Initial imports.\n",
    "import pandas as pd\n",
    "from path import Path\n",
    "from sklearn.ensemble import RandomForestClassifier\n",
    "from sklearn.preprocessing import StandardScaler\n",
    "from sklearn.model_selection import train_test_split\n",
    "from sklearn.metrics import confusion_matrix, accuracy_score, classification_report"
   ]
  },
  {
   "cell_type": "code",
   "execution_count": 20,
   "id": "0ecebfe0",
   "metadata": {},
   "outputs": [],
   "source": [
    "# Create a random forest classifier.\n",
    "rf_model = RandomForestClassifier(n_estimators=128, random_state=7)"
   ]
  },
  {
   "cell_type": "code",
   "execution_count": 21,
   "id": "2d15772e",
   "metadata": {},
   "outputs": [],
   "source": [
    "# Fitting the model\n",
    "rf_model = rf_model.fit(X_train_scaled, y_train)"
   ]
  },
  {
   "cell_type": "code",
   "execution_count": 22,
   "id": "23a7481b",
   "metadata": {},
   "outputs": [],
   "source": [
    "# Making predictions using the testing data.\n",
    "predictions = rf_model.predict(X_test_scaled)"
   ]
  },
  {
   "cell_type": "code",
   "execution_count": 23,
   "id": "02440362",
   "metadata": {},
   "outputs": [
    {
     "data": {
      "text/html": [
       "<div>\n",
       "<style scoped>\n",
       "    .dataframe tbody tr th:only-of-type {\n",
       "        vertical-align: middle;\n",
       "    }\n",
       "\n",
       "    .dataframe tbody tr th {\n",
       "        vertical-align: top;\n",
       "    }\n",
       "\n",
       "    .dataframe thead th {\n",
       "        text-align: right;\n",
       "    }\n",
       "</style>\n",
       "<table border=\"1\" class=\"dataframe\">\n",
       "  <thead>\n",
       "    <tr style=\"text-align: right;\">\n",
       "      <th></th>\n",
       "      <th>Predicted 0</th>\n",
       "      <th>Predicted 1</th>\n",
       "      <th>Predicted 2</th>\n",
       "    </tr>\n",
       "  </thead>\n",
       "  <tbody>\n",
       "    <tr>\n",
       "      <th>Actual 0</th>\n",
       "      <td>856</td>\n",
       "      <td>836</td>\n",
       "      <td>827</td>\n",
       "    </tr>\n",
       "    <tr>\n",
       "      <th>Actual 1</th>\n",
       "      <td>799</td>\n",
       "      <td>943</td>\n",
       "      <td>800</td>\n",
       "    </tr>\n",
       "    <tr>\n",
       "      <th>Actual 2</th>\n",
       "      <td>829</td>\n",
       "      <td>866</td>\n",
       "      <td>790</td>\n",
       "    </tr>\n",
       "  </tbody>\n",
       "</table>\n",
       "</div>"
      ],
      "text/plain": [
       "          Predicted 0  Predicted 1  Predicted 2\n",
       "Actual 0          856          836          827\n",
       "Actual 1          799          943          800\n",
       "Actual 2          829          866          790"
      ]
     },
     "execution_count": 23,
     "metadata": {},
     "output_type": "execute_result"
    }
   ],
   "source": [
    "# Calculating the confusion matrix.\n",
    "cm = confusion_matrix(y_test, predictions)\n",
    "\n",
    "# Create a DataFrame from the confusion matrix.\n",
    "cm_df = pd.DataFrame(\n",
    "    cm, index=[\"Actual 0\", \"Actual 1\",\"Actual 2\"], columns=[\"Predicted 0\", \"Predicted 1\", \"Predicted 2\"])\n",
    "\n",
    "cm_df"
   ]
  },
  {
   "cell_type": "code",
   "execution_count": 24,
   "id": "95c20119",
   "metadata": {},
   "outputs": [],
   "source": [
    "# Calculating the accuracy score.\n",
    "acc_score = accuracy_score(y_test, predictions)"
   ]
  },
  {
   "cell_type": "code",
   "execution_count": 25,
   "id": "e007f28e",
   "metadata": {},
   "outputs": [
    {
     "name": "stdout",
     "output_type": "stream",
     "text": [
      "Confusion Matrix\n"
     ]
    },
    {
     "data": {
      "text/html": [
       "<div>\n",
       "<style scoped>\n",
       "    .dataframe tbody tr th:only-of-type {\n",
       "        vertical-align: middle;\n",
       "    }\n",
       "\n",
       "    .dataframe tbody tr th {\n",
       "        vertical-align: top;\n",
       "    }\n",
       "\n",
       "    .dataframe thead th {\n",
       "        text-align: right;\n",
       "    }\n",
       "</style>\n",
       "<table border=\"1\" class=\"dataframe\">\n",
       "  <thead>\n",
       "    <tr style=\"text-align: right;\">\n",
       "      <th></th>\n",
       "      <th>Predicted 0</th>\n",
       "      <th>Predicted 1</th>\n",
       "      <th>Predicted 2</th>\n",
       "    </tr>\n",
       "  </thead>\n",
       "  <tbody>\n",
       "    <tr>\n",
       "      <th>Actual 0</th>\n",
       "      <td>856</td>\n",
       "      <td>836</td>\n",
       "      <td>827</td>\n",
       "    </tr>\n",
       "    <tr>\n",
       "      <th>Actual 1</th>\n",
       "      <td>799</td>\n",
       "      <td>943</td>\n",
       "      <td>800</td>\n",
       "    </tr>\n",
       "    <tr>\n",
       "      <th>Actual 2</th>\n",
       "      <td>829</td>\n",
       "      <td>866</td>\n",
       "      <td>790</td>\n",
       "    </tr>\n",
       "  </tbody>\n",
       "</table>\n",
       "</div>"
      ],
      "text/plain": [
       "          Predicted 0  Predicted 1  Predicted 2\n",
       "Actual 0          856          836          827\n",
       "Actual 1          799          943          800\n",
       "Actual 2          829          866          790"
      ]
     },
     "metadata": {},
     "output_type": "display_data"
    },
    {
     "name": "stdout",
     "output_type": "stream",
     "text": [
      "Accuracy Score : 0.3430956798303737\n",
      "Classification Report\n",
      "              precision    recall  f1-score   support\n",
      "\n",
      "           0       0.34      0.34      0.34      2519\n",
      "           1       0.36      0.37      0.36      2542\n",
      "           2       0.33      0.32      0.32      2485\n",
      "\n",
      "    accuracy                           0.34      7546\n",
      "   macro avg       0.34      0.34      0.34      7546\n",
      "weighted avg       0.34      0.34      0.34      7546\n",
      "\n"
     ]
    }
   ],
   "source": [
    "# Displaying results\n",
    "print(\"Confusion Matrix\")\n",
    "display(cm_df)\n",
    "print(f\"Accuracy Score : {acc_score}\")\n",
    "print(\"Classification Report\")\n",
    "print(classification_report(y_test, predictions))"
   ]
  },
  {
   "cell_type": "code",
   "execution_count": 26,
   "id": "0f37f4b6",
   "metadata": {},
   "outputs": [
    {
     "data": {
      "text/plain": [
       "array([0.39720664, 0.25407583, 0.26378261, 0.08493492])"
      ]
     },
     "execution_count": 26,
     "metadata": {},
     "output_type": "execute_result"
    }
   ],
   "source": [
    "# Calculate feature importance in the Random Forest model.\n",
    "importances = rf_model.feature_importances_\n",
    "importances"
   ]
  },
  {
   "cell_type": "code",
   "execution_count": 27,
   "id": "ebb1c906",
   "metadata": {},
   "outputs": [
    {
     "data": {
      "text/plain": [
       "[(0.39720663649503263, 'Age'),\n",
       " (0.2637826095112518, 'Weight'),\n",
       " (0.2540758326321868, 'Height'),\n",
       " (0.08493492136152862, 'BMI')]"
      ]
     },
     "execution_count": 27,
     "metadata": {},
     "output_type": "execute_result"
    }
   ],
   "source": [
    "# We can sort the features by their importance.\n",
    "sorted(zip(rf_model.feature_importances_, Xy.columns), reverse=True)"
   ]
  },
  {
   "cell_type": "code",
   "execution_count": null,
   "id": "91c70e42",
   "metadata": {},
   "outputs": [],
   "source": []
  },
  {
   "cell_type": "code",
   "execution_count": null,
   "id": "dda9ed8a",
   "metadata": {},
   "outputs": [],
   "source": []
  }
 ],
 "metadata": {
  "celltoolbar": "Raw Cell Format",
  "kernelspec": {
   "display_name": "Python [conda env:mlenv] *",
   "language": "python",
   "name": "conda-env-mlenv-py"
  },
  "language_info": {
   "codemirror_mode": {
    "name": "ipython",
    "version": 3
   },
   "file_extension": ".py",
   "mimetype": "text/x-python",
   "name": "python",
   "nbconvert_exporter": "python",
   "pygments_lexer": "ipython3",
   "version": "3.7.10"
  }
 },
 "nbformat": 4,
 "nbformat_minor": 5
}
